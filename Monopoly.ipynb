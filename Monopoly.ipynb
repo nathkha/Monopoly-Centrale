{
 "cells": [
  {
   "cell_type": "code",
   "execution_count": 317,
   "id": "eba8710a",
   "metadata": {},
   "outputs": [
    {
     "name": "stdout",
     "output_type": "stream",
     "text": [
      "0\n",
      "0\n"
     ]
    }
   ],
   "source": [
    "class Players:\n",
    "    def __init__(player, shape, position, money):\n",
    "        player.shape = shape\n",
    "        player.position = position \n",
    "        player.money = money \n",
    "        \n",
    "player_1 = Players('triangle', 0, 1500)    \n",
    "player_2 = Players('round', 0, 1500)    \n",
    "\n",
    "print(player_1.position)\n",
    "print(player_2.position)"
   ]
  },
  {
   "cell_type": "code",
   "execution_count": 318,
   "id": "a2481ff0",
   "metadata": {},
   "outputs": [
    {
     "name": "stdout",
     "output_type": "stream",
     "text": [
      "F3-05\n"
     ]
    }
   ],
   "source": [
    "class Cases:\n",
    "    def __init__(case, name, price, index, owner, effect):\n",
    "        case.name = name \n",
    "        case.price = price \n",
    "        case.index = index #place on the board, this will be useful\n",
    "        case.owner = owner\n",
    "        case.effect = effect\n",
    "        \n",
    "case_0 = Cases('GO','',0,'','gives 200 if player goes through it')\n",
    "case_1 = Cases('F3-05',60,1,'','if bought, other players need to pay rent')\n",
    "case_2 = Cases('community chest','',2,'','pick a community chest card')    \n",
    "case_3 = Cases('F3-06',60,3,'','if bought, other players need to pay rent')               \n",
    "case_4 = Cases('School fee','',4,'','pay_100')                     \n",
    "case_5 = Cases('Crous Breguet','',5,'','if bought, other players need to pay rent + rent increases if owner has several crous')\n",
    "case_6 = Cases('F2-05',100,6,'','if bought, other players need to pay rent') \n",
    "case_7 = Cases('chance','',7,'','pick a chance card')    \n",
    "case_8 = Cases('F2-06',110,8,'','if bought, other players need to pay rent')\n",
    "case_9 = Cases('F2-07',120,9,'','if bought, other players need to pay rent')\n",
    "case_10 = Cases('Musée','',10,'','if only passing, no effect, else need a double to get out')\n",
    "case_11 = Cases('césal I',140,11,'','if bought, other players need to pay rent')\n",
    "case_12 = Cases('electricity',150,12,'','if bought, other players need to pay rent + rent increases if owner has water also')\n",
    "\n",
    "list_cases = [case_0, case_1, case_2, case_3, case_4, case_5, case_6, case_7, case_8, case_9, case_10, case_11, case_12]\n",
    "print (list_cases[random.randint(0,11)].name)"
   ]
  },
  {
   "cell_type": "code",
   "execution_count": 319,
   "id": "7015f88d",
   "metadata": {},
   "outputs": [],
   "source": [
    "def repeat_the_index(player):\n",
    "    if player.position > len(list_cases):\n",
    "        player.position = player.position % len(list_cases)\n",
    "        return player.position\n",
    "    else:\n",
    "        return player.position"
   ]
  },
  {
   "cell_type": "code",
   "execution_count": 320,
   "id": "e202a19d",
   "metadata": {},
   "outputs": [
    {
     "name": "stdout",
     "output_type": "stream",
     "text": [
      "dice a gave us 1\n",
      "dice b gave us 5\n",
      "triangle moves to F2-05\n"
     ]
    }
   ],
   "source": [
    "import random\n",
    "\n",
    "def random_dice_throw(player):\n",
    "    a = random.randint(1,6)\n",
    "    print(f'dice a gave us {a}')\n",
    "    b = random.randint(1,6)\n",
    "    print (f'dice b gave us {b}')\n",
    "    x = a+b\n",
    "    if a==b:\n",
    "        player.position = player.position + x                # street_effect(player.position+x)\n",
    "        print(f'{player.shape} moves to {list_cases[repeat_the_index(player)].name} and we play again since it is a double')\n",
    "        a = random.randint(1,6)\n",
    "        print(f'dice a gave us {a}')\n",
    "        b = random.randint(1,6)\n",
    "        print(f'dice a gave us {b}')\n",
    "        x=a+b   \n",
    "        player.position = player.position + x                 # street_effect(player.position+x)\n",
    "        print(f'{player.shape} moves to {list_cases[repeat_the_index(player)].name}')\n",
    "    else:\n",
    "        player.position = player.position+x                     #street_effect(player.position+x)\n",
    "        print(f'{player.shape} moves to {list_cases[repeat_the_index(player)].name}')\n",
    "        \n",
    "        \n",
    "random_dice_throw (player_1)"
   ]
  },
  {
   "cell_type": "code",
   "execution_count": 148,
   "id": "f614886a",
   "metadata": {},
   "outputs": [],
   "source": [
    "class Cards:\n",
    "    def __init__(card, tyype, index, effect, text):\n",
    "        card.tyype = tyype\n",
    "        card.index = index\n",
    "        card.effect = effect\n",
    "        card.text = text\n",
    "        \n",
    "community_chest_card_1 = Cards('community_chest_card', 1, 'pay_150', 'you faked having covid, pay the doctor 150')\n",
    "community_chest_card_2 = Cards('community_chest_card', 2, 'pay_100', 'pay the CVEC 100')\n",
    "community_chest_card_3 = Cards('community_chest_card', 3, 'receive_80', 'student fee error, get 80 back')\n",
    "\n",
    "list_community_chest_cards = [community_chest_card_1, community_chest_card_2, community_chest_card_3]\n",
    "\n",
    "chance_card_1 = Cards('chance_card', 1, 'receive_10', 'You have won second prize in a beauty contest. Collect 10')\n",
    "chance_card_2 = Cards('chance_card', 2, 'pay_60', 'You destroyed your cesal appartement, pay 60')\n",
    "chance_card_3 = Cards('chance_card', 3, 'receive_20_from_every_player', 'its your birthday, receive 20 from every player')\n",
    "\n",
    "list_chance_cards = [chance_card_1, chance_card_2, chance_card_3]"
   ]
  },
  {
   "cell_type": "code",
   "execution_count": 321,
   "id": "94389d35",
   "metadata": {},
   "outputs": [
    {
     "name": "stdout",
     "output_type": "stream",
     "text": [
      "pay the CVEC 100\n",
      "You have won second prize in a beauty contest. Collect 10\n"
     ]
    },
    {
     "data": {
      "text/plain": [
       "'receive_10'"
      ]
     },
     "execution_count": 321,
     "metadata": {},
     "output_type": "execute_result"
    }
   ],
   "source": [
    "def pick_a_random_community_chest_card ():\n",
    "    x = random.randint (0,2)\n",
    "    random_pick = list_community_chest_cards[x]\n",
    "    print (random_pick.text)\n",
    "    return (random_pick.effect)\n",
    "    \n",
    "pick_a_random_community_chest_card()\n",
    "\n",
    "def pick_a_random_chance_card ():\n",
    "    x = random.randint (0,2)\n",
    "    random_pick = list_chance_cards[x]\n",
    "    print (random_pick.text)\n",
    "    return (random_pick.effect)\n",
    "\n",
    "pick_a_random_chance_card ()\n"
   ]
  },
  {
   "cell_type": "code",
   "execution_count": 324,
   "id": "89153c78",
   "metadata": {},
   "outputs": [
    {
     "ename": "SyntaxError",
     "evalue": "invalid syntax (4206419012.py, line 1)",
     "output_type": "error",
     "traceback": [
      "\u001b[1;36m  Input \u001b[1;32mIn [324]\u001b[1;36m\u001b[0m\n\u001b[1;33m    echo \"# Monopoly-Centrale\" >> README.md\u001b[0m\n\u001b[1;37m         ^\u001b[0m\n\u001b[1;31mSyntaxError\u001b[0m\u001b[1;31m:\u001b[0m invalid syntax\n"
     ]
    }
   ],
   "source": []
  }
 ],
 "metadata": {
  "kernelspec": {
   "display_name": "Python 3 (ipykernel)",
   "language": "python",
   "name": "python3"
  },
  "language_info": {
   "codemirror_mode": {
    "name": "ipython",
    "version": 3
   },
   "file_extension": ".py",
   "mimetype": "text/x-python",
   "name": "python",
   "nbconvert_exporter": "python",
   "pygments_lexer": "ipython3",
   "version": "3.9.12"
  }
 },
 "nbformat": 4,
 "nbformat_minor": 5
}
