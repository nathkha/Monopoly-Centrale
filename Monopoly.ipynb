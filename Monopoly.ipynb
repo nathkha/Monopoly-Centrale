{
 "cells": [
  {
   "cell_type": "code",
   "execution_count": 57,
   "metadata": {},
   "outputs": [
    {
     "name": "stdout",
     "output_type": "stream",
     "text": [
      "0\n",
      "Shape: triangle Position: GO Money: 1440\n",
      "F3-05\n"
     ]
    }
   ],
   "source": [
    "class Players:\n",
    "    properties=[] # list each properties of each players \n",
    "    def __init__(player, shape, position, money):\n",
    "        player.shape = shape\n",
    "        player.position = position \n",
    "        player.money = money \n",
    "    \n",
    "    def __strposition__(player): #Giving the position to the players as a number is useless\n",
    "         return list_cases2[player.position].name\n",
    "        \n",
    "    \n",
    "    def __str__(player):#Print the information about the player\n",
    "        print(\"Shape: \"+player.shape+\" Position: \",end=\"\")\n",
    "        print(player.__strposition__(),end=\"\")\n",
    "        print(\" Money: \"+str(player.money),end=\"\\n\")\n",
    "        for i in player.properties:\n",
    "            print(i.name,sep=\";\")\n",
    "    \n",
    "    def buy(player,case):\n",
    "        if(type(case)==Street or type(case)==Company or type(case)==Crous): #We check the case can be bought\n",
    "            if(player.money>case.price): #Check if the player has enough money\n",
    "                player.properties.append(case)\n",
    "                player.money=player.money-case.price\n",
    "                case.owner=player\n",
    "            else:\n",
    "                print(\"Not enough money, comeback later\")\n",
    "                return \n",
    "                   \n",
    "        \n",
    "player_1 = Players('triangle', 0, 1500)    \n",
    "player_2 = Players('round', 0, 1500)    \n",
    "\n",
    "player_1.__strposition__()\n",
    "print(player_2.position)\n",
    "player_1.buy(case_1)\n",
    "player_1.__str__()"
   ]
  },
  {
   "cell_type": "code",
   "execution_count": 58,
   "metadata": {},
   "outputs": [
    {
     "name": "stdout",
     "output_type": "stream",
     "text": [
      "Name:GO Position: 0gives 200 if player goes through it\n"
     ]
    }
   ],
   "source": [
    "#I think it's useless to create a class Jail, Go, Free Parking. We just have to check with a \"if\" condition if we're on it\n",
    "\n",
    "\n",
    "class Case():\n",
    "    def __init__(case,name,index,info):\n",
    "        case.name = name\n",
    "        case.index = index #place on the board, this will be useful\n",
    "        case.info=info\n",
    "    \n",
    "    def __str__(self):\n",
    "        print(\"Name:\"+self.name+\" Position: \"+str(self.index)+str(self.info))\n",
    "        \n",
    "\n",
    "class Street(Case):\n",
    "    hotel=0\n",
    "    house=0\n",
    "    def __init__(self,name,price,index,color,owner,info):\n",
    "        super().__init__(name,index,info)\n",
    "        self.color=color\n",
    "        self.price=price\n",
    "        self.owner=owner\n",
    "    def __str__(self):\n",
    "        print(\"Name: \"+self.name+\" price: \"+str(self.price)+\" index: \"+str(self.index)+\" color: \"+self.color+\" owner: \"+self.owner)\n",
    "\n",
    "class Chance(Case):\n",
    "    def __init__(self,name,index,info):\n",
    "        super().__init__(name,index,info)\n",
    "\n",
    "class Crous(Case):\n",
    "    def __init__(self,name,index,info,owner,price):\n",
    "        super().__init__(name,index,info)\n",
    "        self.owner=owner\n",
    "        self.price=price\n",
    "\n",
    "class Company(Case):\n",
    "    def __init__(self,name,index,info,owner,price):\n",
    "        super().__init__(name,index,info)\n",
    "        self.owner=owner\n",
    "        self.price=price\n",
    "\n",
    "case_0 = Case('GO',0,'gives 200 if player goes through it')\n",
    "case_1 = Street('F3-05',60,1,'brown','','if bought, other players need to pay rent')\n",
    "case_2 = Chance('community chest',2,'pick a community chest card')    \n",
    "case_3 = Street('F3-06',60,3,'brown','','if bought, other players need to pay rent')               \n",
    "case_4 = Case('School fee',4,'pay_100')                     \n",
    "case_5 = Crous('Crous Breguet','',5,'','if bought, other players need to pay rent + rent increases if owner has several crous')\n",
    "case_6 = Street('F2-05',100,6,'light blue',\"\",'if bought, other players need to pay rent') \n",
    "case_7 = Chance('chance',7,'pick a chance card')    \n",
    "case_8 = Street('F2-06',110,8,'light blue',\"\",'if bought, other players need to pay rent')\n",
    "case_9 = Street('F2-07',120,9,'light blue',\"\",'if bought, other players need to pay rent')\n",
    "case_10 = Case('Musée',10,'if only passing, no effect, else need a double to get out')\n",
    "case_11 = Street('césal I',140,11,'pink',\"\",'if bought, other players need to pay rent')\n",
    "case_12 = Company('electricity',150,12,'','if bought, other players need to pay rent + rent increases if owner has water also')\n",
    "\n",
    "list_cases = [case_0, case_1, case_2, case_3, case_4, case_5, case_6, case_7, case_8, case_9, case_10, case_11, case_12]\n",
    "\n",
    "\n",
    "\n",
    "case_0.__str__()"
   ]
  },
  {
   "cell_type": "code",
   "execution_count": 59,
   "metadata": {},
   "outputs": [],
   "source": [
    "def repeat_the_index(player):\n",
    "    if player.position > len(list_cases2):\n",
    "        player.position = player.position % len(list_cases2)\n",
    "        return player.position\n",
    "    else:\n",
    "        return player.position"
   ]
  },
  {
   "cell_type": "code",
   "execution_count": 60,
   "metadata": {},
   "outputs": [
    {
     "name": "stdout",
     "output_type": "stream",
     "text": [
      "dice a gave us 6\n",
      "dice b gave us 5\n",
      "triangle moves to community chest\n"
     ]
    }
   ],
   "source": [
    "import random\n",
    "\n",
    "def random_dice_throw(player):\n",
    "    a = random.randint(1,6)\n",
    "    print(f'dice a gave us {a}')\n",
    "    b = random.randint(1,6)\n",
    "    print (f'dice b gave us {b}')\n",
    "    x = a+b\n",
    "    if a==b:\n",
    "        player.position = player.position + x                # street_effect(player.position+x)\n",
    "        print(f'{player.shape} moves to {list_cases2[repeat_the_index(player)].name} and we play again since it is a double')\n",
    "        a = random.randint(1,6)\n",
    "        print(f'dice a gave us {a}')\n",
    "        b = random.randint(1,6)\n",
    "        print(f'dice a gave us {b}')\n",
    "        x=a+b   \n",
    "        player.position = player.position + x                 # street_effect(player.position+x)\n",
    "        print(f'{player.shape} moves to {list_cases2[repeat_the_index(player)].name}')\n",
    "    else:\n",
    "        player.position = player.position+x                     #street_effect(player.position+x)\n",
    "        print(f'{player.shape} moves to {list_cases2[repeat_the_index(player)].name}')\n",
    "        \n",
    "        \n",
    "random_dice_throw (player_1)"
   ]
  },
  {
   "cell_type": "code",
   "execution_count": 61,
   "metadata": {},
   "outputs": [],
   "source": [
    "class Cards:\n",
    "    def __init__(card, tyype, index, action,amount,location,text):\n",
    "        card.tyype = tyype\n",
    "        card.index = index\n",
    "        card.action = action\n",
    "        card.amount=amount\n",
    "        card.location=location\n",
    "        card.text = text\n",
    "#Idea is to recognize a card \n",
    "#For now 3 types of action: Pay, receive, Go_to\n",
    "#Amount: The amount we owe or we receive\n",
    "#Location: Where the card tell us to go \n",
    "\n",
    "        \n",
    "community_chest_card_1 = Cards('community_chest_card', 1, 'pay',100,'same', 'you faked having covid, pay the doctor 150')\n",
    "community_chest_card_2 = Cards('community_chest_card', 2, 'pay',100,'same', 'pay the CVEC 100')\n",
    "community_chest_card_3 = Cards('community_chest_card', 3, 'receive',80,\"same\", 'student fee error, get 80 back')\n",
    "\n",
    "list_community_chest_cards = [community_chest_card_1, community_chest_card_2, community_chest_card_3]\n",
    "\n",
    "chance_card_1 = Cards('chance_card', 1, 'receive',10,'same', 'You have won second prize in a beauty contest. Collect 10')\n",
    "chance_card_2 = Cards('chance_card', 2, 'pay',60,'same', 'You destroyed your cesal appartement, pay 60')\n",
    "chance_card_3 = Cards('chance_card', 3, 'receive',20,'same', 'its your birthday, receive 20 from every player')\n",
    "chance_card_4 = Cards('chance_card',4,'go_to',0,'GO','You just graduated, go to the beginning of the game')\n",
    "\n",
    "list_chance_cards = [chance_card_1, chance_card_2, chance_card_3,chance_card_4]"
   ]
  },
  {
   "cell_type": "code",
   "execution_count": 62,
   "metadata": {},
   "outputs": [
    {
     "name": "stdout",
     "output_type": "stream",
     "text": [
      "student fee error, get 80 back\n",
      "its your birthday, receive 20 from every player\n"
     ]
    }
   ],
   "source": [
    "def pick_a_random_community_chest_card ():\n",
    "    x = random.randint (0,2)\n",
    "    random_pick = list_community_chest_cards[x]\n",
    "    print (random_pick.text)\n",
    "    \n",
    "    \n",
    "pick_a_random_community_chest_card()\n",
    "\n",
    "def pick_a_random_chance_card ():\n",
    "    x = random.randint (0,2)\n",
    "    random_pick = list_chance_cards[x]\n",
    "    print (random_pick.text)\n",
    "\n",
    "pick_a_random_chance_card ()\n"
   ]
  },
  {
   "cell_type": "code",
   "execution_count": 63,
   "metadata": {},
   "outputs": [],
   "source": [
    "#When we step on a field->check the type: Street,Chance, Community\n",
    "#->Check the owner: if its ours: Construct a house if we can ? \n",
    "#If it is someone else's-> Pay him the rent\n",
    "    "
   ]
  }
 ],
 "metadata": {
  "kernelspec": {
   "display_name": "Python 3",
   "language": "python",
   "name": "python3"
  },
  "language_info": {
   "codemirror_mode": {
    "name": "ipython",
    "version": 3
   },
   "file_extension": ".py",
   "mimetype": "text/x-python",
   "name": "python",
   "nbconvert_exporter": "python",
   "pygments_lexer": "ipython3",
   "version": "3.7.3"
  }
 },
 "nbformat": 4,
 "nbformat_minor": 5
}
